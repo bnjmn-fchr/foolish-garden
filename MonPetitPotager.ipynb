{
 "cells": [
  {
   "cell_type": "code",
   "execution_count": null,
   "metadata": {
    "id": "GkuskCA4nO4p"
   },
   "outputs": [],
   "source": [
    "# http://www.monpetitplacement.fr/fr/affiliate/sea?cp=ALLEONMPP "
   ]
  },
  {
   "cell_type": "code",
   "execution_count": null,
   "metadata": {
    "colab": {
     "base_uri": "https://localhost:8080/"
    },
    "id": "v7RZCwAVnmMN",
    "outputId": "ad586209-f861-4b6b-d328-dc891f855006"
   },
   "outputs": [],
   "source": [
    "!pip install git+https://github.com/galleon/foolish-garden"
   ]
  },
  {
   "cell_type": "code",
   "execution_count": null,
   "metadata": {
    "colab": {
     "base_uri": "https://localhost:8080/"
    },
    "id": "1k9-JKtDjh_Q",
    "outputId": "9427901b-0724-4a1a-869d-e772d4b05311"
   },
   "outputs": [],
   "source": [
    "import argparse\n",
    "import gym\n",
    "\n",
    "from stable_baselines3.common.callbacks import EvalCallback\n",
    "\n",
    "from stable_baselines3.common.vec_env import DummyVecEnv\n",
    "from stable_baselines3 import PPO\n",
    "\n",
    "from stable_baselines3.common.env_checker import check_env\n",
    "\n",
    "\n",
    "from stable_baselines3.common.vec_env.util import (\n",
    "    copy_obs_dict,\n",
    "    dict_to_obs,\n",
    "    obs_space_info,\n",
    ")\n",
    "\n",
    "import foolish_garden\n",
    "\n",
    "step_train = 1_000_000\n",
    "model_path =\"trained_models/ppo2_mpp\"\n",
    "\n",
    "env = DummyVecEnv([lambda: gym.make(\"MonPetitPotager-v0\") for i in range(1)])\n",
    "\n",
    "eval_env = gym.make(\"MonPetitPotager-v0\")\n",
    "obs_space = eval_env.observation_space\n",
    "keys, shapes, dtypes = obs_space_info(obs_space)\n",
    "print(keys, shapes, dtypes)\n",
    "\n",
    "# It will check your custom environment and output additional warnings if needed\n",
    "check_env(eval_env)\n",
    "\n",
    "print(obs_space, eval_env.reset())\n",
    "\n",
    "\n",
    "eval_callback = EvalCallback(\n",
    "    eval_env,\n",
    "    best_model_save_path=model_path,\n",
    "    log_path=\"./logs/\",\n",
    "    eval_freq=10000,\n",
    "    deterministic=True,\n",
    "    render=False,\n",
    ")\n",
    "\n",
    "model = PPO(\"MultiInputPolicy\", env, verbose=1, tensorboard_log=\"./tensorboard_logs/\")\n",
    "\n",
    "model.learn(total_timesteps=step_train, callback=eval_callback)"
   ]
  },
  {
   "cell_type": "code",
   "execution_count": null,
   "metadata": {
    "colab": {
     "base_uri": "https://localhost:8080/"
    },
    "id": "WHCARecN6ZQ8",
    "outputId": "edef1c7f-15bb-4f1a-b825-3f4b0c7b1aaf"
   },
   "outputs": [],
   "source": [
    "from stable_baselines3.common.env_checker import check_env\n",
    "\n",
    "check_env(env)"
   ]
  }
 ],
 "metadata": {
  "accelerator": "GPU",
  "colab": {
   "collapsed_sections": [],
   "name": "MonPetitPotager.ipynb",
   "provenance": []
  },
  "kernelspec": {
   "display_name": "Python 3",
   "name": "python3"
  },
  "language_info": {
   "name": "python"
  }
 },
 "nbformat": 4,
 "nbformat_minor": 0
}
